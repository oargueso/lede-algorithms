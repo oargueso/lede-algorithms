{
 "cells": [
  {
   "cell_type": "code",
   "execution_count": 1,
   "metadata": {
    "collapsed": true
   },
   "outputs": [],
   "source": [
    "from sklearn import preprocessing\n",
    "from sklearn import cross_validation\n",
    "from sklearn.tree import DecisionTreeClassifier\n",
    "from sklearn.feature_extraction.text import CountVectorizer"
   ]
  },
  {
   "cell_type": "code",
   "execution_count": 5,
   "metadata": {
    "collapsed": false
   },
   "outputs": [],
   "source": [
    "########## STEP 1: DATA IMPORT AND PREPROCESSING ##########\n",
    "\n",
    "# Here we're taking in the training data and splitting it into two lists: One with the text of\n",
    "# each bill title, and the second with each bill title's corresponding category. Order is important.\n",
    "# The first bill in list 1 should also be the first category in list 2.\n",
    "training = [line.strip().split('|') for line in open('bills_training.txt', 'r').readlines()]\n",
    "text = [t[0] for t in training if len(t) > 1]\n",
    "labels = [t[1] for t in training if len(t) > 1]\n",
    "\n",
    "# A little bit of cleanup for scikit-learn's benefit. Scikit-learn models wants our categories to\n",
    "# be numbers, not strings. The LabelEncoder performs this transformation.\n",
    "encoder = preprocessing.LabelEncoder()\n",
    "correct_labels = encoder.fit_transform(labels)"
   ]
  },
  {
   "cell_type": "code",
   "execution_count": 6,
   "metadata": {
    "collapsed": false
   },
   "outputs": [],
   "source": [
    "########## STEP 2: FEATURE EXTRACTION ##########\n",
    "vectorizer = CountVectorizer(stop_words='english')\n",
    "data = vectorizer.fit_transform(text)\n"
   ]
  },
  {
   "cell_type": "code",
   "execution_count": 7,
   "metadata": {
    "collapsed": true
   },
   "outputs": [],
   "source": [
    "########## STEP 3: MODEL BUILDING ##########\n",
    "model = DecisionTreeClassifier()\n",
    "fit_model = model.fit(data, correct_labels)\n"
   ]
  },
  {
   "cell_type": "code",
   "execution_count": 8,
   "metadata": {
    "collapsed": false
   },
   "outputs": [
    {
     "name": "stderr",
     "output_type": "stream",
     "text": [
      "/Users/olayaargueso/.virtualenvs/algos/lib/python3.5/site-packages/sklearn/cross_validation.py:516: Warning: The least populated class in y has only 1 members, which is too few. The minimum number of labels for any class cannot be less than n_folds=5.\n",
      "  % (min_labels, self.n_folds)), Warning)\n"
     ]
    },
    {
     "name": "stdout",
     "output_type": "stream",
     "text": [
      "Accuracy: 0.65 (+/- 0.04)\n"
     ]
    }
   ],
   "source": [
    "# ########## STEP 4: EVALUATION ##########\n",
    "# Evaluate our model with 10-fold cross-validation\n",
    "scores = cross_validation.cross_val_score(model, data, correct_labels, cv=5)\n",
    "print(\"Accuracy: %0.2f (+/- %0.2f)\" % (scores.mean(), scores.std() * 2))\n"
   ]
  },
  {
   "cell_type": "code",
   "execution_count": 9,
   "metadata": {
    "collapsed": false
   },
   "outputs": [
    {
     "name": "stdout",
     "output_type": "stream",
     "text": [
      "Public postsecondary education: executive officer compensation. -> ['Education']\n",
      "An act to add Section 236.3 to the Education code, related to the pricing of college textbooks. -> ['Education']\n",
      "Political Reform Act of 1974: campaign disclosures. -> ['Campaign Finance and Election Issues']\n",
      "An act to add Section 236.3 to the Penal Code, relating to human trafficking. -> ['Crime']\n"
     ]
    },
    {
     "name": "stderr",
     "output_type": "stream",
     "text": [
      "/Users/olayaargueso/.virtualenvs/algos/lib/python3.5/site-packages/sklearn/utils/validation.py:386: DeprecationWarning: Passing 1d arrays as data is deprecated in 0.17 and willraise ValueError in 0.19. Reshape your data either using X.reshape(-1, 1) if your data has a single feature or X.reshape(1, -1) if it contains a single sample.\n",
      "  DeprecationWarning)\n",
      "/Users/olayaargueso/.virtualenvs/algos/lib/python3.5/site-packages/sklearn/utils/validation.py:386: DeprecationWarning: Passing 1d arrays as data is deprecated in 0.17 and willraise ValueError in 0.19. Reshape your data either using X.reshape(-1, 1) if your data has a single feature or X.reshape(1, -1) if it contains a single sample.\n",
      "  DeprecationWarning)\n",
      "/Users/olayaargueso/.virtualenvs/algos/lib/python3.5/site-packages/sklearn/utils/validation.py:386: DeprecationWarning: Passing 1d arrays as data is deprecated in 0.17 and willraise ValueError in 0.19. Reshape your data either using X.reshape(-1, 1) if your data has a single feature or X.reshape(1, -1) if it contains a single sample.\n",
      "  DeprecationWarning)\n",
      "/Users/olayaargueso/.virtualenvs/algos/lib/python3.5/site-packages/sklearn/utils/validation.py:386: DeprecationWarning: Passing 1d arrays as data is deprecated in 0.17 and willraise ValueError in 0.19. Reshape your data either using X.reshape(-1, 1) if your data has a single feature or X.reshape(1, -1) if it contains a single sample.\n",
      "  DeprecationWarning)\n"
     ]
    }
   ],
   "source": [
    "# ########## STEP 5: APPLYING THE MODEL ##########\n",
    "docs_new = [\"Public postsecondary education: executive officer compensation.\",\n",
    "            \"An act to add Section 236.3 to the Education code, related to the pricing of college textbooks.\",\n",
    "            \"Political Reform Act of 1974: campaign disclosures.\",\n",
    "            \"An act to add Section 236.3 to the Penal Code, relating to human trafficking.\"\n",
    "        ]\n",
    "\n",
    "test_data = vectorizer.transform(docs_new)\n",
    "\n",
    "for i in range(len(docs_new)):\n",
    "    print('%s -> %s' % (docs_new[i], encoder.classes_[model.predict(test_data.toarray()[i])]))\n",
    "   "
   ]
  },
  {
   "cell_type": "markdown",
   "metadata": {
    "collapsed": true
   },
   "source": [
    "I can understand how useful something like this could be if working with really huge datasets, since it seems helpful to automatise basic tasks (like labelling bills or tagging emails). However, I wonder whether this would work for any language other than English (my bet is it would not). "
   ]
  },
  {
   "cell_type": "code",
   "execution_count": null,
   "metadata": {
    "collapsed": true
   },
   "outputs": [],
   "source": []
  }
 ],
 "metadata": {
  "kernelspec": {
   "display_name": "Python 3",
   "language": "python",
   "name": "python3"
  },
  "language_info": {
   "codemirror_mode": {
    "name": "ipython",
    "version": 3
   },
   "file_extension": ".py",
   "mimetype": "text/x-python",
   "name": "python",
   "nbconvert_exporter": "python",
   "pygments_lexer": "ipython3",
   "version": "3.5.1"
  }
 },
 "nbformat": 4,
 "nbformat_minor": 0
}
